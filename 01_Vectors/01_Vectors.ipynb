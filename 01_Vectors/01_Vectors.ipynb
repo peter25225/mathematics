{
 "cells": [
  {
   "cell_type": "code",
   "execution_count": 45,
   "metadata": {},
   "outputs": [],
   "source": [
    "import numpy as np\n",
    "import math as math\n",
    "import pandas as pd\n",
    "from sklearn.datasets import load_boston\n",
    "\n",
    "import matplotlib.pyplot as plt"
   ]
  },
  {
   "cell_type": "markdown",
   "metadata": {},
   "source": [
    "###### Уровень 0:\n",
    "\n",
    "Даны вектора x=(1,1), y=(2, 0) и z = (0,2)\n",
    "\n",
    "Надо:\n",
    "\n",
    "1. Изобразить вектора на экране\n",
    "2. Изобразить точку x + y + z\n",
    "3. Найти угол между векторами x и y"
   ]
  },
  {
   "cell_type": "code",
   "execution_count": 31,
   "metadata": {},
   "outputs": [],
   "source": [
    "x = np.array([1,1])\n",
    "y = np.array([2,0])\n",
    "z = np.array([0,2])"
   ]
  },
  {
   "cell_type": "code",
   "execution_count": 32,
   "metadata": {},
   "outputs": [
    {
     "data": {
      "image/png": "[encoded data removed]",
      "text/plain": [
       "<Figure size 432x288 with 1 Axes>"
      ]
     },
     "metadata": {
      "needs_background": "light"
     },
     "output_type": "display_data"
    }
   ],
   "source": [
    "# 1. Изобразить вектора на экране\n",
    "\n",
    "plt.figure()\n",
    "plt.plot(x[0], x[1], 'o')\n",
    "plt.plot(y[0], y[1], 'o')\n",
    "plt.plot(z[0], z[1], 'o')\n",
    "plt.grid()"
   ]
  },
  {
   "cell_type": "code",
   "execution_count": 33,
   "metadata": {},
   "outputs": [
    {
     "data": {
      "image/png": "[encoded data removed]",
      "text/plain": [
       "<Figure size 432x288 with 1 Axes>"
      ]
     },
     "metadata": {
      "needs_background": "light"
     },
     "output_type": "display_data"
    }
   ],
   "source": [
    "# 2. Изобразить точку x + y + z\n",
    "\n",
    "s = x + y + z\n",
    "\n",
    "plt.plot(s[0], s[1], 'o')\n",
    "plt.grid()"
   ]
  },
  {
   "cell_type": "code",
   "execution_count": 42,
   "metadata": {},
   "outputs": [
    {
     "name": "stdout",
     "output_type": "stream",
     "text": [
      "Угол равен 45 градусов\n"
     ]
    }
   ],
   "source": [
    "# 3. Найти угол между векторами x и y\n",
    "\n",
    "cosangle = np.dot(x,y) / (np.linalg.norm(x) * np.linalg.norm(y) )\n",
    "\n",
    "angle = math.degrees(np.arccos(cosangle))\n",
    "print(f'Угол равен {\"%.0f\" % angle} градусов')"
   ]
  },
  {
   "cell_type": "markdown",
   "metadata": {},
   "source": [
    "###### Уровень 1:\n",
    "\n",
    "Даны дома из Бостона\n",
    "\n",
    "1. Выбрать любые n домов, образующих базис в пространстве признаков дома (все колонки, кроме medv)\n",
    "2. Написать код разложения дома по указанному базису"
   ]
  },
  {
   "cell_type": "code",
   "execution_count": 101,
   "metadata": {},
   "outputs": [],
   "source": [
    "# Читаем данные по домам, убираем колонку с результатом\n",
    "data = pd.read_csv(load_boston()['filename'], skiprows=1)\n",
    "data.drop(['MEDV'], axis=1, inplace=True)\n",
    "\n",
    "# Выбираем данные для формирования базиса, а также вектора для разложения по базису\n",
    "x_data = data.sample(13)\n",
    "y_data = data.sample(1)"
   ]
  },
  {
   "cell_type": "code",
   "execution_count": 115,
   "metadata": {},
   "outputs": [],
   "source": [
    "# Преобразуем данные в массивы numpy\n",
    "x_arr = x_data.to_numpy()\n",
    "y_arr = y_data.to_numpy().transpose()"
   ]
  },
  {
   "cell_type": "code",
   "execution_count": 116,
   "metadata": {},
   "outputs": [
    {
     "data": {
      "text/plain": [
       "8694668928646.511"
      ]
     },
     "execution_count": 116,
     "metadata": {},
     "output_type": "execute_result"
    }
   ],
   "source": [
    "# Проверяем определитель матрицы - он не должен быть равен нулю\n",
    "np.linalg.det(x_arr)"
   ]
  },
  {
   "cell_type": "code",
   "execution_count": 117,
   "metadata": {},
   "outputs": [
    {
     "data": {
      "text/plain": [
       "array([[ 1.89873779e+01],\n",
       "       [ 1.56102351e+01],\n",
       "       [ 8.44998573e+01],\n",
       "       [ 8.30838127e+01],\n",
       "       [-3.07842962e+03],\n",
       "       [ 2.25105067e+02],\n",
       "       [ 1.23890873e+01],\n",
       "       [-1.44563259e+02],\n",
       "       [ 2.83966980e+01],\n",
       "       [-3.99739097e+00],\n",
       "       [ 3.54520317e+01],\n",
       "       [ 4.51300734e-01],\n",
       "       [-2.29121858e+01]])"
      ]
     },
     "execution_count": 117,
     "metadata": {},
     "output_type": "execute_result"
    }
   ],
   "source": [
    "# Получаем разложение вектора в базисе\n",
    "res = np.linalg.solve(x_arr,y_arr)\n",
    "res"
   ]
  },
  {
   "cell_type": "code",
   "execution_count": null,
   "metadata": {},
   "outputs": [],
   "source": []
  }
 ],
 "metadata": {
  "kernelspec": {
   "display_name": "Python 3",
   "language": "python",
   "name": "python3"
  },
  "language_info": {
   "codemirror_mode": {
    "name": "ipython",
    "version": 3
   },
   "file_extension": ".py",
   "mimetype": "text/x-python",
   "name": "python",
   "nbconvert_exporter": "python",
   "pygments_lexer": "ipython3",
   "version": "3.7.6"
  }
 },
 "nbformat": 4,
 "nbformat_minor": 4
}
