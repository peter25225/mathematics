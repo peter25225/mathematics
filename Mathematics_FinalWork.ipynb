{
 "cells": [
  {
   "cell_type": "code",
   "execution_count": 3,
   "metadata": {},
   "outputs": [],
   "source": [
    "import matplotlib.pyplot as plt\n",
    "import numpy as np\n",
    "\n",
    "from sympy import Symbol, Derivative, sin, cos, tan\n",
    "import sympy as sym\n",
    "\n",
    "import seaborn as sns\n",
    "import random\n",
    "\n",
    "from numpy import linalg as la\n",
    "\n",
    "from scipy.optimize import minimize\n",
    "%matplotlib inline"
   ]
  },
  {
   "cell_type": "markdown",
   "metadata": {},
   "source": [
    "###### Задание 1\n",
    "Дана матрица рейтингов фильмов (строки - пользователи (10 человек), столбцы - фильмы (15 фильмов))"
   ]
  },
  {
   "cell_type": "code",
   "execution_count": 7,
   "metadata": {},
   "outputs": [],
   "source": [
    "raitings = np.array([[ 4,  4,  9,  4,  1,  6, 10,  7,  9,  6,  9,  2,  8,  6,  6],\n",
    "                     [ 9,  2,  5, 10,  7,  8, 10,  5,  6,  2,  1,  6,  8,  9,  7],\n",
    "                     [ 1,  6,  8,  8,  4,  9,  3,  8, 10,  5,  2,  6,  8,  1,  6],\n",
    "                     [ 6,  1,  9,  7,  7,  9,  2,  3,  5,  1,  6,  6,  3,  2,  7],\n",
    "                     [ 3,  7,  3,  5,  7,  9,  9,  6,  2,  9,  1,  2,  8, 10,  6],\n",
    "                     [ 8,  3,  7,  3,  8,  6,  1,  8,  8,  6,  1,  9,  4, 10,  1],\n",
    "                     [ 9,  8,  4,  8,  8, 10,  6,  1,  1,  2,  9,  5,  2,  7,  2],\n",
    "                     [ 4,  1,  6,  4,  3, 10,  4,  4,  2,  8,  7,  9,  3,  8,  3],\n",
    "                     [ 2,  7,  7,  6, 10,  6,  8,  9,  8,  6, 10,  1,  7, 10,  4],\n",
    "                     [ 5, 10,  8,  8,  9,  7,  2,  9,  9, 10,  8,  8,  8,  6, 10],])"
   ]
  },
  {
   "cell_type": "markdown",
   "metadata": {},
   "source": [
    "a) Необходимо найти наиболее похожего пользователя по косинусной метрике для каждого из (ответ: 10 пар вида (x, y), где y - наиболее похожий пользователь на пользователя x)."
   ]
  },
  {
   "cell_type": "code",
   "execution_count": 8,
   "metadata": {},
   "outputs": [
    {
     "data": {
      "text/plain": [
       "[[0, 8],\n",
       " [1, 4],\n",
       " [2, 9],\n",
       " [3, 9],\n",
       " [4, 8],\n",
       " [5, 9],\n",
       " [6, 3],\n",
       " [7, 5],\n",
       " [8, 0],\n",
       " [9, 2]]"
      ]
     },
     "execution_count": 8,
     "metadata": {},
     "output_type": "execute_result"
    }
   ],
   "source": [
    "# Функция подсчета косинусного расстояния между векторами a, b по их координатам длины векторов\n",
    "def cos_range(a,b):\n",
    "    aLength = np.linalg.norm( a )\n",
    "    bLength = np.linalg.norm( b )\n",
    "    \n",
    "    return np.dot( a, b ) / ( aLength * bLength )\n",
    "\n",
    "# Функция поиска наиболее похожего профиля\n",
    "def get_alike_profile(user_profiles, target_index=0):\n",
    "    pair_index = len(user_profiles) + 1\n",
    "    max_cos_range = 0\n",
    "    max_cos_num = 0\n",
    "    cur_cos_range = 0.0\n",
    "    \n",
    "    for i in range(len(user_profiles)):\n",
    "        if i == target_index:\n",
    "            continue\n",
    "            \n",
    "        cur_cos_range = cos_range(user_profiles[target_index], user_profiles[i])\n",
    "        \n",
    "        if cur_cos_range > max_cos_range:\n",
    "            max_cos_range = cur_cos_range\n",
    "            pair_index = i\n",
    "    \n",
    "    return pair_index\n",
    "\n",
    "user_pairs = []\n",
    "\n",
    "# Проходим по всем векторам в матрице и для каждого определяем наиболее похожий\n",
    "for profile_num in range(len(raitings)):\n",
    "    user_pairs.append([profile_num,get_alike_profile(raitings,profile_num)])\n",
    "\n",
    "# Пары сохраняем как индексы соответствующих строк в матрице\n",
    "user_pairs"
   ]
  },
  {
   "cell_type": "markdown",
   "metadata": {},
   "source": [
    "b) Предположим, вы захотели сжать признаковые описания пользователя с 15 фильмов, до, скажем, 5-ти признаков, как вы это сделаете?"
   ]
  },
  {
   "cell_type": "code",
   "execution_count": 17,
   "metadata": {},
   "outputs": [
    {
     "data": {
      "text/plain": [
       "PCA(copy=True, iterated_power='auto', n_components=5, random_state=None,\n",
       "    svd_solver='auto', tol=0.0, whiten=False)"
      ]
     },
     "execution_count": 17,
     "metadata": {},
     "output_type": "execute_result"
    }
   ],
   "source": [
    "from sklearn.decomposition import PCA\n",
    "pca = PCA(n_components=5)\n",
    "pca.fit(raitings)"
   ]
  },
  {
   "cell_type": "code",
   "execution_count": 19,
   "metadata": {},
   "outputs": [
    {
     "data": {
      "text/plain": [
       "[[0, 8],\n",
       " [1, 4],\n",
       " [2, 9],\n",
       " [3, 6],\n",
       " [4, 1],\n",
       " [5, 7],\n",
       " [6, 3],\n",
       " [7, 5],\n",
       " [8, 0],\n",
       " [9, 8]]"
      ]
     },
     "execution_count": 19,
     "metadata": {},
     "output_type": "execute_result"
    }
   ],
   "source": [
    "raitings_pca = pca.transform(raitings)\n",
    "raitings_pca\n",
    "\n",
    "user_pairs = []\n",
    "\n",
    "# Проходим по всем векторам в матрице и для каждого определяем наиболее похожий\n",
    "for profile_num in range(len(raitings_pca)):\n",
    "    user_pairs.append([profile_num,get_alike_profile(raitings_pca,profile_num)])\n",
    "\n",
    "# Пары сохраняем как индексы соответствующих строк в матрице\n",
    "user_pairs"
   ]
  },
  {
   "cell_type": "markdown",
   "metadata": {},
   "source": [
    "###### Задание 2\n",
    "\n",
    "Вычислите производную $tg^2(sin(x) + cos(2x+3))$ в точке $x_0=1$ на python и на бумаге (просто подставить точку в производную и ничего не упрощать)."
   ]
  },
  {
   "cell_type": "markdown",
   "metadata": {},
   "source": [
    "$f'(x) = 2*tg(sin(x)+cos(2x+3))*(tg(sin(x)+cos(2x+3)))'$\n",
    "\n",
    "$(tg(sin(x)+cos(2x+3)))' = tg'(sin(x)+cos(2x+3))*(sin(x)+cos(2x+3))' = (1 / сos^2(sin(x)+cos(2x+3)) * (cos(x)-sin(2x+3)*2)$\n",
    "\n",
    "$(1 / сos^2(sin(x)+cos(2x+3)) * (cos(x)-sin(2x+3)*2) = (1 + tg^2(sin(x)+cos(2x+3))*(cos(x)-sin(2x+3)*2)$\n",
    "\n",
    "$f'(x) = 2*tg(sin(x)+cos(2x+3)) * (1 + tg^2(sin(x)+cos(2x+3))*(cos(x)-2sin(2x+3))$\n",
    "\n",
    "Значение производной в точке 1:\n",
    "\n",
    "$f'(1) = 2*tg(sin(1)+cos(5)) * (1 + tg^2(sin(1)+cos(5))*(cos(1)-2sin(5))$\n",
    "\n",
    "$f'(1) = 2*tg(0.842+0.284)*(1 + tg^2(0.842+0.284)) * (0.540-(-0.959)*2))$\n",
    "\n",
    "$f'(1) = 2 * 2.098 * (1 + (2.098)^2) * (2.458))$\n",
    "\n",
    "$f'(1) = 2 * 2.093 * (5.382) * (2.458))$\n",
    "\n",
    "$f'(1) = 55.386$"
   ]
  },
  {
   "cell_type": "code",
   "execution_count": 5,
   "metadata": {},
   "outputs": [
    {
     "name": "stdout",
     "output_type": "stream",
     "text": [
      "Производная:\n"
     ]
    },
    {
     "data": {
      "text/latex": [
       "$\\displaystyle 2 \\left(- 2 \\sin{\\left(2 x + 3 \\right)} + \\cos{\\left(x \\right)}\\right) \\left(\\tan^{2}{\\left(\\sin{\\left(x \\right)} + \\cos{\\left(2 x + 3 \\right)} \\right)} + 1\\right) \\tan{\\left(\\sin{\\left(x \\right)} + \\cos{\\left(2 x + 3 \\right)} \\right)}$"
      ],
      "text/plain": [
       "2*(-2*sin(2*x + 3) + cos(x))*(tan(sin(x) + cos(2*x + 3))**2 + 1)*tan(sin(x) + cos(2*x + 3))"
      ]
     },
     "execution_count": 5,
     "metadata": {},
     "output_type": "execute_result"
    }
   ],
   "source": [
    "x = Symbol('x')\n",
    "\n",
    "# Задаем исходную функцию\n",
    "function = tan(sin(x) + cos(2*x + 3))*tan(sin(x) + cos(2*x + 3))\n",
    "\n",
    "# Получаем первую производную\n",
    "deriv = Derivative(function).doit()\n",
    "print('Производная:')\n",
    "deriv"
   ]
  },
  {
   "cell_type": "code",
   "execution_count": 6,
   "metadata": {},
   "outputs": [
    {
     "name": "stdout",
     "output_type": "stream",
     "text": [
      "Значение производной в точке 1: 55.3859176353379\n"
     ]
    }
   ],
   "source": [
    "print(f'Значение производной в точке 1: {deriv.evalf(subs={x:1})}')"
   ]
  },
  {
   "cell_type": "markdown",
   "metadata": {},
   "source": [
    "###### Задание 3\n",
    "\n",
    "Дана функция с неизвестными параметрами a и b, вам также известны значения функции fx в точках x. Найдите оптимальные параметры a, b, минимизирующие абсолютную ошибку error"
   ]
  },
  {
   "cell_type": "code",
   "execution_count": 7,
   "metadata": {},
   "outputs": [],
   "source": [
    "def f(x, a, b):\n",
    "    return np.e**a * np.sin(b*x) + x"
   ]
  },
  {
   "cell_type": "code",
   "execution_count": 8,
   "metadata": {},
   "outputs": [],
   "source": [
    "x = np.array([0.        , 0.26315789, 0.52631579, 0.78947368, 1.05263158,\n",
    "              1.31578947, 1.57894737, 1.84210526, 2.10526316, 2.36842105,\n",
    "              2.63157895, 2.89473684, 3.15789474, 3.42105263, 3.68421053,\n",
    "              3.94736842, 4.21052632, 4.47368421, 4.73684211, 5.        ])"
   ]
  },
  {
   "cell_type": "code",
   "execution_count": 9,
   "metadata": {},
   "outputs": [],
   "source": [
    "fx = np.array([  0.        , -12.01819092, -18.90968634, -17.68786571,\n",
    "                -8.7529108 ,   4.27524517,  16.06801336,  21.81250213,\n",
    "                19.22059845,   9.48411207,  -3.22273056, -13.48576488,\n",
    "               -16.91096359, -11.95866834,  -0.58630088,  12.56873816,\n",
    "                22.12489421,  24.20292139,  18.04522521,   6.33211092])"
   ]
  },
  {
   "cell_type": "code",
   "execution_count": 10,
   "metadata": {},
   "outputs": [
    {
     "data": {
      "image/png": "[encoded data removed]",
      "text/plain": [
       "<Figure size 432x288 with 1 Axes>"
      ]
     },
     "metadata": {
      "needs_background": "light"
     },
     "output_type": "display_data"
    }
   ],
   "source": [
    "plt.plot(x, fx)\n",
    "plt.show()"
   ]
  },
  {
   "cell_type": "code",
   "execution_count": 11,
   "metadata": {},
   "outputs": [],
   "source": [
    "def error(params):\n",
    "    return np.sum(np.abs(fx - f(x, params[0], params[1])))"
   ]
  },
  {
   "cell_type": "code",
   "execution_count": 120,
   "metadata": {},
   "outputs": [
    {
     "data": {
      "text/plain": [
       "1.5163282505170628e-06"
      ]
     },
     "execution_count": 120,
     "metadata": {},
     "output_type": "execute_result"
    }
   ],
   "source": [
    "error([3,-2.5])"
   ]
  },
  {
   "cell_type": "code",
   "execution_count": 118,
   "metadata": {},
   "outputs": [],
   "source": []
  },
  {
   "cell_type": "code",
   "execution_count": 119,
   "metadata": {},
   "outputs": [
    {
     "data": {
      "image/png": "[encoded data removed]",
      "text/plain": [
       "<Figure size 432x288 with 1 Axes>"
      ]
     },
     "metadata": {
      "needs_background": "light"
     },
     "output_type": "display_data"
    }
   ],
   "source": []
  },
  {
   "cell_type": "markdown",
   "metadata": {},
   "source": [
    "Используем функцию minimize из модуля scipy для подбора оптимальных параметров. Можно попробовать разные методы для\n",
    "определения наиболее подходящего. Кроме того необходимо подобрать стартовые параметры - удачным вариантом оказались значения [1,-1]"
   ]
  },
  {
   "cell_type": "code",
   "execution_count": 128,
   "metadata": {},
   "outputs": [
    {
     "name": "stdout",
     "output_type": "stream",
     "text": [
      "Optimization terminated successfully.\n",
      "         Current function value: 236.985677\n",
      "         Iterations: 56\n",
      "         Function evaluations: 108\n",
      "Nelder-Mead\n",
      "[ 2.31151256 -0.95858203]\n",
      "Optimization terminated successfully.\n",
      "         Current function value: 0.000002\n",
      "         Iterations: 7\n",
      "         Function evaluations: 348\n",
      "Powell\n",
      "[ 3.  -2.5]\n",
      "Warning: Desired error not necessarily achieved due to precision loss.\n",
      "         Current function value: 240.341164\n",
      "         Iterations: 1\n",
      "         Function evaluations: 235\n",
      "         Gradient evaluations: 58\n",
      "CG\n",
      "[ 1.0154763  -0.88538885]\n",
      "Warning: Desired error not necessarily achieved due to precision loss.\n",
      "         Current function value: 237.029451\n",
      "         Iterations: 37\n",
      "         Function evaluations: 888\n",
      "         Gradient evaluations: 219\n",
      "BFGS\n",
      "[ 2.3851313  -0.97746939]\n",
      "L-BFGS-B\n",
      "[ 1.86135079 -0.75924217]\n",
      "TNC\n",
      "[ 1.97267034 -0.83226193]\n",
      "COBYLA\n",
      "[ 2.10668476 -0.89260122]\n",
      "Optimization terminated successfully.    (Exit mode 0)\n",
      "            Current function value: 236.98567696062304\n",
      "            Iterations: 29\n",
      "            Function evaluations: 185\n",
      "            Gradient evaluations: 29\n",
      "SLSQP\n",
      "[ 2.31140503 -0.95855292]\n"
     ]
    },
    {
     "name": "stderr",
     "output_type": "stream",
     "text": [
      "C:\\Users\\Peter\\anaconda3\\lib\\site-packages\\ipykernel_launcher.py:2: RuntimeWarning: overflow encountered in double_scalars\n",
      "  \n",
      "C:\\Users\\Peter\\anaconda3\\lib\\site-packages\\ipykernel_launcher.py:2: RuntimeWarning: invalid value encountered in multiply\n",
      "  \n"
     ]
    }
   ],
   "source": [
    "methods = ['Nelder-Mead','Powell','CG','BFGS','L-BFGS-B','TNC','COBYLA','SLSQP']\n",
    "\n",
    "x0 = np.array([1,-1])\n",
    "\n",
    "for cur_method in methods:\n",
    "    res = minimize(error, x0, method=cur_method,options={'disp': True})\n",
    "    print(cur_method)\n",
    "    print(res.x)"
   ]
  },
  {
   "cell_type": "markdown",
   "metadata": {},
   "source": [
    "Метод 'Powell' подобрал точные значения [3, -2.5], которые дают нулевую ошибку. Попробуем сравнить результат с исходной функцией - видим, что значения fx совпадают с иходными"
   ]
  },
  {
   "cell_type": "code",
   "execution_count": 131,
   "metadata": {},
   "outputs": [
    {
     "data": {
      "image/png": "[encoded data removed]",
      "text/plain": [
       "<Figure size 432x288 with 1 Axes>"
      ]
     },
     "metadata": {
      "needs_background": "light"
     },
     "output_type": "display_data"
    }
   ],
   "source": [
    "f_pred = []\n",
    "for cur_x in x:\n",
    "# Возьмем немного другие параметры, иначе графики наложатся\n",
    "    f_pred.append(f(cur_x,2.9,-2.4))\n",
    "\n",
    "plt.plot(x, fx)\n",
    "plt.plot(x, f_pred)\n",
    "plt.show()\n"
   ]
  },
  {
   "cell_type": "markdown",
   "metadata": {},
   "source": [
    "###### Задание 4\n",
    "\n",
    "Создайте собственную дискретную случайную величину с 20 значениями. Сгенерируйте 1000 выборок размера 50. Посчитайте среднее для каждой выборки. Постройте гистограмму распределения средних."
   ]
  },
  {
   "cell_type": "code",
   "execution_count": 12,
   "metadata": {},
   "outputs": [
    {
     "data": {
      "image/png": "[encoded data removed]",
      "text/plain": [
       "<Figure size 360x360 with 1 Axes>"
      ]
     },
     "metadata": {
      "needs_background": "light"
     },
     "output_type": "display_data"
    }
   ],
   "source": [
    "def value_roll_sum(n = 50):\n",
    "    value = [1,2,3,4,5,6,7,8,9,10,11,12,13,14,15,16,17,18,19,20]\n",
    "    value_sum = 0\n",
    "    i=0\n",
    "\n",
    "    while i < n:\n",
    "        value_sum += random.choice(value)    \n",
    "        i += 1;\n",
    "        \n",
    "    return value_sum\n",
    "\n",
    "def value_roll_avg(cycle_num=1000, rolls=50):\n",
    "    value_avg_list = []\n",
    "    i=0\n",
    "    \n",
    "    while i < cycle_num:\n",
    "        value_avg_list.append(value_roll_sum(rolls)/rolls)\n",
    "        i+=1\n",
    "        \n",
    "    return value_avg_list\n",
    "\n",
    "sns.displot(value_roll_avg(1000,50))\n",
    "plt.title('Плотность распределения среднего значения 1000 выборок размера 50 из чисел от 1 до 20 ')\n",
    "plt.show()"
   ]
  },
  {
   "cell_type": "markdown",
   "metadata": {},
   "source": [
    "###### Задание 5\n",
    "\n",
    "Найдите собственные значения и собственные вектора матрицы (на python и на бумаге)\n",
    "\n",
    "[[1, 4],\n",
    "\n",
    "[1, 1]]"
   ]
  },
  {
   "cell_type": "markdown",
   "metadata": {},
   "source": [
    "###### Найдем собственные значения и собственные вектора матрицы вручную\n",
    "\n",
    "1. Воспользуемся формулой для поиска собственных значений матрицы:\n",
    "\n",
    "\\begin{equation*}\n",
    "(A-\\lambda I)\\bar{v} = \\bar{0}\n",
    "\\end{equation*}\n",
    "\n",
    "\\begin{equation*}\n",
    "det(A-\\lambda I) = 0\n",
    "\\end{equation*}\n",
    "\n",
    "\\begin{equation*}\n",
    "\\begin{vmatrix}\n",
    "1-\\lambda & 4 \\\\\n",
    "1 & 1-\\lambda \n",
    "\\end{vmatrix}\n",
    "=0\n",
    "\\end{equation*}\n",
    "\n",
    "\\begin{equation*}\n",
    "(1-\\lambda)(1-\\lambda) - (1 * 4) = 0 \n",
    "\\end{equation*}\n",
    "\n",
    "\\begin{equation*}\n",
    "\\lambda^2 - 2\\lambda - 3 = 0 \n",
    "\\end{equation*}\n",
    "\n",
    "\n",
    "\\begin{equation*}\n",
    "\\lambda_1 = -1 ,\n",
    "\\lambda_2 = 3\n",
    "\\end{equation*}\n",
    "\n",
    "2. Найдем собственные вектора\n",
    "\n",
    "1) $\\lambda = -1 $\n",
    "\n",
    "\\begin{equation*}\n",
    "\\begin{vmatrix}\n",
    "1+1 & 4 \\\\\n",
    "1 & 1+1 \n",
    "\\end{vmatrix}\n",
    "\\begin{vmatrix}\n",
    "x \\\\\n",
    "y  \n",
    "\\end{vmatrix}\n",
    "= 0\n",
    "\\end{equation*}\n",
    "\n",
    "\\begin{equation}\n",
    "x = -2y\n",
    "\\end{equation}\n",
    "\n",
    "Пример собственного вектора:\n",
    "\n",
    "\\begin{equation}\n",
    "\\begin{vmatrix}\n",
    "-2 \\\\\n",
    "1  \n",
    "\\end{vmatrix}\n",
    "\\end{equation}\n",
    "\n",
    "1) $\\lambda = 3 $\n",
    "\n",
    "\\begin{equation*}\n",
    "\\begin{vmatrix}\n",
    "1+3 & 4 \\\\\n",
    "1 & 1+3 \n",
    "\\end{vmatrix}\n",
    "\\begin{vmatrix}\n",
    "x \\\\\n",
    "y  \n",
    "\\end{vmatrix}\n",
    "= 0\n",
    "\\end{equation*}\n",
    "\n",
    "\\begin{equation}\n",
    "x = 2y\n",
    "\\end{equation}\n",
    "\n",
    "Пример собственного вектора:\n",
    "\n",
    "\\begin{vmatrix}\n",
    "2 \\\\\n",
    "1  \n",
    "\\end{vmatrix}\n"
   ]
  },
  {
   "cell_type": "markdown",
   "metadata": {},
   "source": [
    "###### Найдем собственные значения и собственные вектора матрицы с помощью linalg"
   ]
  },
  {
   "cell_type": "code",
   "execution_count": 14,
   "metadata": {},
   "outputs": [
    {
     "data": {
      "text/plain": [
       "array([[1, 4],\n",
       "       [1, 1]])"
      ]
     },
     "execution_count": 14,
     "metadata": {},
     "output_type": "execute_result"
    }
   ],
   "source": [
    "arr = np.array([[1,4],[1,1]])\n",
    "arr"
   ]
  },
  {
   "cell_type": "code",
   "execution_count": 21,
   "metadata": {},
   "outputs": [
    {
     "data": {
      "text/plain": [
       "(array([ 3., -1.]),\n",
       " array([[ 0.89442719, -0.89442719],\n",
       "        [ 0.4472136 ,  0.4472136 ]]))"
      ]
     },
     "execution_count": 21,
     "metadata": {},
     "output_type": "execute_result"
    }
   ],
   "source": [
    "w, v = la.eig(arr)\n",
    "w,v"
   ]
  },
  {
   "cell_type": "code",
   "execution_count": null,
   "metadata": {},
   "outputs": [],
   "source": []
  }
 ],
 "metadata": {
  "kernelspec": {
   "display_name": "Python 3",
   "language": "python",
   "name": "python3"
  },
  "language_info": {
   "codemirror_mode": {
    "name": "ipython",
    "version": 3
   },
   "file_extension": ".py",
   "mimetype": "text/x-python",
   "name": "python",
   "nbconvert_exporter": "python",
   "pygments_lexer": "ipython3",
   "version": "3.7.6"
  }
 },
 "nbformat": 4,
 "nbformat_minor": 4
}
