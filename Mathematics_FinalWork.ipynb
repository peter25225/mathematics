{
 "cells": [
  {
   "cell_type": "code",
   "execution_count": 52,
   "metadata": {},
   "outputs": [],
   "source": [
    "import matplotlib.pyplot as plt\n",
    "import numpy as np\n",
    "\n",
    "from sympy import Symbol, Derivative, sin, cos, tan\n",
    "import sympy as sym\n",
    "\n",
    "\n",
    "from scipy.optimize import minimize\n",
    "%matplotlib inline"
   ]
  },
  {
   "cell_type": "markdown",
   "metadata": {},
   "source": [
    "###### Задание 1\n",
    "Дана матрица рейтингов фильмов (строки - пользователи (10 человек), столбцы - фильмы (15 фильмов))"
   ]
  },
  {
   "cell_type": "code",
   "execution_count": 43,
   "metadata": {},
   "outputs": [],
   "source": [
    "raitings = np.array([[ 4,  4,  9,  4,  1,  6, 10,  7,  9,  6,  9,  2,  8,  6,  6],\n",
    "                     [ 9,  2,  5, 10,  7,  8, 10,  5,  6,  2,  1,  6,  8,  9,  7],\n",
    "                     [ 1,  6,  8,  8,  4,  9,  3,  8, 10,  5,  2,  6,  8,  1,  6],\n",
    "                     [ 6,  1,  9,  7,  7,  9,  2,  3,  5,  1,  6,  6,  3,  2,  7],\n",
    "                     [ 3,  7,  3,  5,  7,  9,  9,  6,  2,  9,  1,  2,  8, 10,  6],\n",
    "                     [ 8,  3,  7,  3,  8,  6,  1,  8,  8,  6,  1,  9,  4, 10,  1],\n",
    "                     [ 9,  8,  4,  8,  8, 10,  6,  1,  1,  2,  9,  5,  2,  7,  2],\n",
    "                     [ 4,  1,  6,  4,  3, 10,  4,  4,  2,  8,  7,  9,  3,  8,  3],\n",
    "                     [ 2,  7,  7,  6, 10,  6,  8,  9,  8,  6, 10,  1,  7, 10,  4],\n",
    "                     [ 5, 10,  8,  8,  9,  7,  2,  9,  9, 10,  8,  8,  8,  6, 10],])"
   ]
  },
  {
   "cell_type": "markdown",
   "metadata": {},
   "source": [
    "a) Необходимо найти наиболее похожего пользователя по косинусной метрике для каждого из (ответ: 10 пар вида (x, y), где y - наиболее похожий пользователь на пользователя x).\n",
    "\n",
    "b) Предположим, вы захотели сжать признаковые описания пользователя с 15 фильмов, до, скажем, 5-ти признаков, как вы это сделаете?"
   ]
  },
  {
   "cell_type": "code",
   "execution_count": 45,
   "metadata": {},
   "outputs": [
    {
     "data": {
      "text/plain": [
       "[[0, 8],\n",
       " [1, 4],\n",
       " [2, 9],\n",
       " [3, 9],\n",
       " [4, 8],\n",
       " [5, 9],\n",
       " [6, 3],\n",
       " [7, 5],\n",
       " [8, 0],\n",
       " [9, 2]]"
      ]
     },
     "execution_count": 45,
     "metadata": {},
     "output_type": "execute_result"
    }
   ],
   "source": [
    "# Функция подсчета косинусного расстояния между векторами a, b по их координатам длины векторов\n",
    "def cos_range(a,b):\n",
    "    aLength = np.linalg.norm( a )\n",
    "    bLength = np.linalg.norm( b )\n",
    "    \n",
    "    return np.dot( a, b ) / ( aLength * bLength )\n",
    "\n",
    "# Функция поиска наиболее похожего профиля\n",
    "def get_alike_profile(user_profiles, target_index=0):\n",
    "    pair_index = len(user_profiles) + 1\n",
    "    max_cos_range = 0\n",
    "    max_cos_num = 0\n",
    "    cur_cos_range = 0.0\n",
    "    \n",
    "    for i in range(len(user_profiles)):\n",
    "        if i == target_index:\n",
    "            continue\n",
    "            \n",
    "        cur_cos_range = cos_range(user_profiles[target_index], user_profiles[i])\n",
    "        \n",
    "        if cur_cos_range > max_cos_range:\n",
    "            max_cos_range = cur_cos_range\n",
    "            pair_index = i\n",
    "    \n",
    "    return pair_index\n",
    "\n",
    "user_pairs = []\n",
    "\n",
    "# Проходим по всем векторам в матрице и для каждого определяем наиболее похожий\n",
    "for profile_num in range(len(raitings)):\n",
    "    user_pairs.append([profile_num,get_alike_profile(raitings,profile_num)])\n",
    "\n",
    "# Пары сохраняем как индексы соответствующих строк в матрице\n",
    "user_pairs"
   ]
  },
  {
   "cell_type": "markdown",
   "metadata": {},
   "source": [
    "###### Задание 2\n",
    "\n",
    "Вычислите производную $tg^2(sin(x) + cos(2x+3))$ в точке $x_0=1$ на python и на бумаге (просто подставить точку в производную и ничего не упрощать)."
   ]
  },
  {
   "cell_type": "markdown",
   "metadata": {},
   "source": [
    "$f'(x) = 2*tg(sin(x)+cos(2x+3))*(tg(sin(x)+cos(2x+3)))'$\n",
    "\n",
    "$(tg(sin(x)+cos(2x+3)))' = tg'(sin(x)+cos(2x+3))*(sin(x)+cos(2x+3))' = (1 / сos^2(sin(x)+cos(2x+3)) * (cos(x)-sin(2x+3)*2)$\n",
    "\n",
    "$(1 / сos^2(sin(x)+cos(2x+3)) * (cos(x)-sin(2x+3)*2) = (1 + tg^2(sin(x)+cos(2x+3))*(cos(x)-sin(2x+3)*2)$\n",
    "\n",
    "$f'(x) = 2*tg(sin(x)+cos(2x+3)) * (1 + tg^2(sin(x)+cos(2x+3))*(cos(x)-2sin(2x+3))$\n",
    "\n",
    "Значение производной в точке 1:\n",
    "\n",
    "$f'(1) = 2*tg(sin(1)+cos(5)) * (1 + tg^2(sin(1)+cos(5))*(cos(1)-2sin(5))$\n",
    "\n",
    "$f'(1) = 2*tg(0.842+0.284)*(1 + tg^2(0.842+0.284)) * (0.540-(-0.959)*2))$\n",
    "\n",
    "$f'(1) = 2 * 2.098 * (1 + (2.098)^2) * (2.458))$\n",
    "\n",
    "$f'(1) = 2 * 2.093 * (5.382) * (2.458))$\n",
    "\n",
    "$f'(1) = 55.386$"
   ]
  },
  {
   "cell_type": "code",
   "execution_count": 58,
   "metadata": {},
   "outputs": [
    {
     "name": "stdout",
     "output_type": "stream",
     "text": [
      "Производная:\n"
     ]
    },
    {
     "data": {
      "text/latex": [
       "$\\displaystyle 2 \\left(- 2 \\sin{\\left(2 x + 3 \\right)} + \\cos{\\left(x \\right)}\\right) \\left(\\tan^{2}{\\left(\\sin{\\left(x \\right)} + \\cos{\\left(2 x + 3 \\right)} \\right)} + 1\\right) \\tan{\\left(\\sin{\\left(x \\right)} + \\cos{\\left(2 x + 3 \\right)} \\right)}$"
      ],
      "text/plain": [
       "2*(-2*sin(2*x + 3) + cos(x))*(tan(sin(x) + cos(2*x + 3))**2 + 1)*tan(sin(x) + cos(2*x + 3))"
      ]
     },
     "execution_count": 58,
     "metadata": {},
     "output_type": "execute_result"
    }
   ],
   "source": [
    "x = Symbol('x')\n",
    "\n",
    "# Задаем исходную функцию\n",
    "function = tan(sin(x) + cos(2*x + 3))*tan(sin(x) + cos(2*x + 3))\n",
    "\n",
    "# Получаем первую производную\n",
    "deriv = Derivative(function).doit()\n",
    "print('Производная:')\n",
    "deriv"
   ]
  },
  {
   "cell_type": "code",
   "execution_count": 59,
   "metadata": {},
   "outputs": [
    {
     "name": "stdout",
     "output_type": "stream",
     "text": [
      "Значение производной в точке 1: 55.3859176353379\n"
     ]
    }
   ],
   "source": [
    "print(f'Значение производной в точке 1: {deriv.evalf(subs={x:1})}')"
   ]
  },
  {
   "cell_type": "markdown",
   "metadata": {},
   "source": [
    "###### Задание 3\n",
    "\n",
    "Дана функция с неизвестными параметрами a и b, вам также известны значения функции fx в точках x. Найдите оптимальные параметры a, b, минимизирующие абсолютную ошибку error"
   ]
  },
  {
   "cell_type": "code",
   "execution_count": 69,
   "metadata": {},
   "outputs": [],
   "source": [
    "def f(x, a, b):\n",
    "    return np.e**a * np.sin(b*x) + x"
   ]
  },
  {
   "cell_type": "code",
   "execution_count": 70,
   "metadata": {},
   "outputs": [],
   "source": [
    "x = np.array([0.        , 0.26315789, 0.52631579, 0.78947368, 1.05263158,\n",
    "              1.31578947, 1.57894737, 1.84210526, 2.10526316, 2.36842105,\n",
    "              2.63157895, 2.89473684, 3.15789474, 3.42105263, 3.68421053,\n",
    "              3.94736842, 4.21052632, 4.47368421, 4.73684211, 5.        ])"
   ]
  },
  {
   "cell_type": "code",
   "execution_count": 71,
   "metadata": {},
   "outputs": [],
   "source": [
    "fx = np.array([  0.        , -12.01819092, -18.90968634, -17.68786571,\n",
    "                -8.7529108 ,   4.27524517,  16.06801336,  21.81250213,\n",
    "                19.22059845,   9.48411207,  -3.22273056, -13.48576488,\n",
    "               -16.91096359, -11.95866834,  -0.58630088,  12.56873816,\n",
    "                22.12489421,  24.20292139,  18.04522521,   6.33211092])"
   ]
  },
  {
   "cell_type": "code",
   "execution_count": 72,
   "metadata": {},
   "outputs": [
    {
     "data": {
      "image/png": "[encoded data removed]",
      "text/plain": [
       "<Figure size 432x288 with 1 Axes>"
      ]
     },
     "metadata": {
      "needs_background": "light"
     },
     "output_type": "display_data"
    }
   ],
   "source": [
    "plt.plot(x, fx)\n",
    "plt.show()"
   ]
  },
  {
   "cell_type": "code",
   "execution_count": 73,
   "metadata": {},
   "outputs": [],
   "source": [
    "def error(params):\n",
    "    return np.sum(np.abs(fx - f(x, params[0], params[1])))"
   ]
  },
  {
   "cell_type": "markdown",
   "metadata": {},
   "source": [
    "###### Задание 4\n",
    "\n",
    "Создайте собственную дискретную случайную величину с 20 значениями. Сгенерируйте 1000 выборок размера 50. Посчитайте среднее для каждой выборки. Постройте гистограмму распределения средних."
   ]
  },
  {
   "cell_type": "code",
   "execution_count": null,
   "metadata": {},
   "outputs": [],
   "source": []
  },
  {
   "cell_type": "markdown",
   "metadata": {},
   "source": [
    "###### Задание 5\n",
    "\n",
    "Найдите собственные значения и собственные вектора матрицы (на python и на бумаге)\n",
    "\n",
    "[[1, 4],\n",
    "\n",
    "[1, 1]]"
   ]
  },
  {
   "cell_type": "code",
   "execution_count": null,
   "metadata": {},
   "outputs": [],
   "source": []
  }
 ],
 "metadata": {
  "kernelspec": {
   "display_name": "Python 3",
   "language": "python",
   "name": "python3"
  },
  "language_info": {
   "codemirror_mode": {
    "name": "ipython",
    "version": 3
   },
   "file_extension": ".py",
   "mimetype": "text/x-python",
   "name": "python",
   "nbconvert_exporter": "python",
   "pygments_lexer": "ipython3",
   "version": "3.7.6"
  }
 },
 "nbformat": 4,
 "nbformat_minor": 4
}
