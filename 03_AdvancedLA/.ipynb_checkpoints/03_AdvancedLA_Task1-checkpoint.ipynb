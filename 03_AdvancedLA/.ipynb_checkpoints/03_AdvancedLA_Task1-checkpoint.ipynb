{
 "cells": [
  {
   "cell_type": "code",
   "execution_count": 2,
   "metadata": {},
   "outputs": [],
   "source": [
    "import numpy as np\n",
    "from numpy import linalg\n",
    "import matplotlib.pyplot as plt\n",
    "import math"
   ]
  },
  {
   "cell_type": "markdown",
   "metadata": {},
   "source": [
    "###### Придумайте матрицы, которые обладают следующими свойствами:"
   ]
  },
  {
   "cell_type": "markdown",
   "metadata": {},
   "source": [
    "a) диагональная, ортогональная, но не единичная(!):"
   ]
  },
  {
   "cell_type": "markdown",
   "metadata": {},
   "source": [
    "По определению матрица является ортогональной, если ее обратная матрица равна ее транспонированной матрице"
   ]
  },
  {
   "cell_type": "code",
   "execution_count": 75,
   "metadata": {},
   "outputs": [
    {
     "name": "stdout",
     "output_type": "stream",
     "text": [
      "Исходная диагональная матрица\n",
      "[[-1  0  0]\n",
      " [ 0  1  0]\n",
      " [ 0  0 -1]]\n",
      "Обратная матрица\n",
      "[[-1. -0. -0.]\n",
      " [ 0.  1.  0.]\n",
      " [-0. -0. -1.]]\n",
      "Транспонированная матрица\n",
      "[[-1  0  0]\n",
      " [ 0  1  0]\n",
      " [ 0  0 -1]]\n"
     ]
    }
   ],
   "source": [
    "m1 = np.diag([-1,1,-1])\n",
    "print('Исходная диагональная матрица')\n",
    "print(m1)\n",
    "\n",
    "print('Обратная матрица')\n",
    "m2 = np.linalg.inv(m1)\n",
    "print(m2)\n",
    "\n",
    "print('Транспонированная матрица')\n",
    "m3 = np.transpose(m1)\n",
    "print(m3)"
   ]
  },
  {
   "cell_type": "markdown",
   "metadata": {},
   "source": [
    "b,c) верхнетреугольная/нижнетреугольная + ортогональная:"
   ]
  },
  {
   "cell_type": "code",
   "execution_count": 110,
   "metadata": {},
   "outputs": [
    {
     "name": "stdout",
     "output_type": "stream",
     "text": [
      "Исходная диагональная матрица\n",
      "[[-1  0]\n",
      " [ 0  1]]\n",
      "Обратная матрица\n",
      "[[-1. -0.]\n",
      " [ 0.  1.]]\n",
      "Транспонированная матрица\n",
      "[[-1  0]\n",
      " [ 0  1]]\n"
     ]
    }
   ],
   "source": [
    "# m1 = np.diag([-1,1,-1])\n",
    "print('Исходная диагональная матрица')\n",
    "# print(m1)\n",
    "\n",
    "m1 = np.triu([[-1,0],[0,1]], -1)\n",
    "print(m1)\n",
    "\n",
    "print('Обратная матрица')\n",
    "m2 = np.linalg.inv(m1)\n",
    "print(m2)\n",
    "\n",
    "print('Транспонированная матрица')\n",
    "m3 = np.transpose(m1)\n",
    "print(m3)"
   ]
  },
  {
   "cell_type": "markdown",
   "metadata": {},
   "source": [
    "d) матрица, у которой определитель = 1, и все элементы не равны 0:"
   ]
  },
  {
   "cell_type": "code",
   "execution_count": 121,
   "metadata": {},
   "outputs": [
    {
     "name": "stdout",
     "output_type": "stream",
     "text": [
      "Матрица c элементами не равными 0\n",
      "[[2 1]\n",
      " [3 2]]\n",
      "Определитель матрицы:\n",
      "1.00\n"
     ]
    }
   ],
   "source": [
    "# m1 = np.diag([-1,1,-1])\n",
    "print('Матрица c элементами не равными 0')\n",
    "# print(m1)\n",
    "\n",
    "m1 = np.array([[2,1],[3,2]])\n",
    "print(m1)\n",
    "\n",
    "print('Определитель матрицы:')\n",
    "print('{:.2f}'.format(np.linalg.det(m1)))"
   ]
  },
  {
   "cell_type": "markdown",
   "metadata": {},
   "source": [
    "Найдите собственные значения и собственные вектора матриц:"
   ]
  },
  {
   "cell_type": "code",
   "execution_count": 122,
   "metadata": {},
   "outputs": [
    {
     "name": "stdout",
     "output_type": "stream",
     "text": [
      "[[2 2]\n",
      " [1 3]]\n"
     ]
    }
   ],
   "source": [
    "m = np.array([[2, 2],\n",
    "[1, 3]])\n",
    "print(m)"
   ]
  },
  {
   "cell_type": "code",
   "execution_count": 125,
   "metadata": {},
   "outputs": [
    {
     "name": "stdout",
     "output_type": "stream",
     "text": [
      "Собственное значение 1.0\n",
      "соответствующий ему собственный вектор [-0.89442719  0.4472136 ]\n",
      "Собственное значение 4.0\n",
      "соответствующий ему собственный вектор [-0.70710678 -0.70710678]\n"
     ]
    }
   ],
   "source": [
    "w, v = np.linalg.eig(m)\n",
    "for i in range(len(w)):\n",
    "    print(\"Собственное значение \" + str(w[i]))\n",
    "    print(\"соответствующий ему собственный вектор \" + str(v[:,i]))"
   ]
  },
  {
   "cell_type": "markdown",
   "metadata": {},
   "source": []
  }
 ],
 "metadata": {
  "kernelspec": {
   "display_name": "Python 3",
   "language": "python",
   "name": "python3"
  },
  "language_info": {
   "codemirror_mode": {
    "name": "ipython",
    "version": 3
   },
   "file_extension": ".py",
   "mimetype": "text/x-python",
   "name": "python",
   "nbconvert_exporter": "python",
   "pygments_lexer": "ipython3",
   "version": "3.7.6"
  }
 },
 "nbformat": 4,
 "nbformat_minor": 4
}
