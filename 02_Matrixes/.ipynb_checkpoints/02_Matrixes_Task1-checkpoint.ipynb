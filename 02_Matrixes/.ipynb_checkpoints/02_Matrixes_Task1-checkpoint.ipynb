{
 "cells": [
  {
   "cell_type": "code",
   "execution_count": 175,
   "metadata": {},
   "outputs": [],
   "source": [
    "import numpy as np\n",
    "from numpy import linalg\n",
    "import matplotlib.pyplot as plt\n",
    "import math"
   ]
  },
  {
   "cell_type": "markdown",
   "metadata": {},
   "source": [
    "###### Уровень 0:\n",
    "1. Создайте матрицу 3 на 3, заполненную числами от 1 до 9\n",
    "2. Прибавьте к ней матрицу с единицами на диагонале\n",
    "3. Умножьте полученную матрицу на вектор (1, 2, 3)\n",
    "4. Посчитайте обратную матрицу к полученной матрице"
   ]
  },
  {
   "cell_type": "code",
   "execution_count": 176,
   "metadata": {},
   "outputs": [
    {
     "data": {
      "text/plain": [
       "array([[-6.00000000e+00, -2.00000000e+00,  3.00000000e+00],\n",
       "       [-1.00000000e+00,  5.00000000e-01,  2.22044605e-17],\n",
       "       [ 5.00000000e+00,  1.00000000e+00, -2.00000000e+00]])"
      ]
     },
     "execution_count": 176,
     "metadata": {},
     "output_type": "execute_result"
    }
   ],
   "source": [
    "# Создаем матрицу 3х3 с числасми от 1 до 9\n",
    "arr = np.arange(1, 10).reshape(3,3)\n",
    "\n",
    "# Создаем единичную матрицу\n",
    "zer = np.eye(3)\n",
    "\n",
    "# Прибавляем единичную матрицу к исходной\n",
    "arr = arr + zer\n",
    "\n",
    "# Создаем вектор (1,2,3)\n",
    "vect = np.arange(1,4)\n",
    "\n",
    "# Умножаем матрицу на вектор\n",
    "arr @ vect\n",
    "\n",
    "# Считаем обратную матрицу\n",
    "rev = np.linalg.inv(arr)\n",
    "rev"
   ]
  },
  {
   "cell_type": "code",
   "execution_count": 178,
   "metadata": {},
   "outputs": [
    {
     "data": {
      "text/plain": [
       "array([[1.00000000e+00, 3.55271368e-15, 8.88178420e-16],\n",
       "       [1.55431223e-16, 1.00000000e+00, 2.22044605e-16],\n",
       "       [1.33226763e-15, 0.00000000e+00, 1.00000000e+00]])"
      ]
     },
     "execution_count": 178,
     "metadata": {},
     "output_type": "execute_result"
    }
   ],
   "source": [
    "# Проверяем, что при умножении на обратную матрицу получаем единичную матрицу\n",
    "rev @ arr"
   ]
  },
  {
   "cell_type": "markdown",
   "metadata": {},
   "source": [
    "###### Уровень 1:\n",
    "Дан объект в 2d пространстве (см. ниже)\n",
    "\n",
    "При помощи матричных операций выполните:\n",
    "1. Уменьшить объект в два раза.\n",
    "2. Повернуть на 130 градусов.\n",
    "3. Отразить объект относительно прямой y=x\n",
    "4. Выполнить смещение объекта и масштабирование (применить 2 матрицы трансформаций). Смещение на (200, 300) и масштабирование на (0.5, 1,2)\n"
   ]
  },
  {
   "cell_type": "code",
   "execution_count": 179,
   "metadata": {},
   "outputs": [
    {
     "data": {
      "text/plain": [
       "array([[-100, -100,    1],\n",
       "       [-100,  100,    1],\n",
       "       [ 100,  100,    1],\n",
       "       [   0,    0,    1],\n",
       "       [ 100, -100,    1],\n",
       "       [-100, -100,    1]])"
      ]
     },
     "execution_count": 179,
     "metadata": {},
     "output_type": "execute_result"
    },
    {
     "data": {
      "image/png": "[encoded data removed]",
      "text/plain": [
       "<Figure size 432x288 with 1 Axes>"
      ]
     },
     "metadata": {
      "needs_background": "light"
     },
     "output_type": "display_data"
    }
   ],
   "source": [
    "A = [\n",
    "[-100, -100, 1],\n",
    "[-100, 100, 1],\n",
    "[100, 100, 1],\n",
    "[0, 0, 1],\n",
    "[100, -100, 1],\n",
    "[-100, -100, 1]\n",
    "]\n",
    "A = np.array(A)\n",
    "x = A[:,0]\n",
    "y = A[:,1]\n",
    "plt.plot(x, y)\n",
    "plt.ylim([-200, 200])\n",
    "plt.xlim([-200, 200])\n",
    "A"
   ]
  },
  {
   "cell_type": "markdown",
   "metadata": {},
   "source": [
    "###### 1. Уменьшение объекта в 2 раза"
   ]
  },
  {
   "cell_type": "code",
   "execution_count": 180,
   "metadata": {},
   "outputs": [
    {
     "data": {
      "text/plain": [
       "array([[0.5, 0. , 0. ],\n",
       "       [0. , 0.5, 0. ],\n",
       "       [0. , 0. , 0. ]])"
      ]
     },
     "execution_count": 180,
     "metadata": {},
     "output_type": "execute_result"
    }
   ],
   "source": [
    "trans = np.array([[0.5,0,0],[0,0.5,0],[0,0,0]])\n",
    "trans"
   ]
  },
  {
   "cell_type": "code",
   "execution_count": 181,
   "metadata": {},
   "outputs": [
    {
     "data": {
      "text/plain": [
       "(-200, 200)"
      ]
     },
     "execution_count": 181,
     "metadata": {},
     "output_type": "execute_result"
    },
    {
     "data": {
      "image/png": "[encoded data removed]",
      "text/plain": [
       "<Figure size 432x288 with 1 Axes>"
      ]
     },
     "metadata": {
      "needs_background": "light"
     },
     "output_type": "display_data"
    }
   ],
   "source": [
    "B = A @ trans\n",
    "x = B[:,0]\n",
    "y = B[:,1]\n",
    "plt.plot(x, y)\n",
    "plt.ylim([-200, 200])\n",
    "plt.xlim([-200, 200])"
   ]
  },
  {
   "cell_type": "markdown",
   "metadata": {},
   "source": [
    "###### 2. Поворот на 130 градусов"
   ]
  },
  {
   "cell_type": "code",
   "execution_count": 182,
   "metadata": {},
   "outputs": [],
   "source": [
    "# Расчитаем значения координат для матрицы трансформации \n",
    "cos_val1 = math.cos(math.radians(130))\n",
    "sin_val1 = math.sin(math.radians(130))\n",
    "cos_val2 = math.cos(math.radians(220))\n",
    "sin_val2 = math.sin(math.radians(220))"
   ]
  },
  {
   "cell_type": "code",
   "execution_count": 189,
   "metadata": {},
   "outputs": [
    {
     "data": {
      "text/plain": [
       "array([[-0.64278761, -0.76604444,  0.        ],\n",
       "       [ 0.76604444, -0.64278761,  0.        ],\n",
       "       [ 0.        ,  0.        ,  0.        ]])"
      ]
     },
     "execution_count": 189,
     "metadata": {},
     "output_type": "execute_result"
    }
   ],
   "source": [
    "trans = np.array([[cos_val,cos_val2,0],[sin_val,sin_val2,0],[0,0,0]])\n",
    "trans"
   ]
  },
  {
   "cell_type": "code",
   "execution_count": 187,
   "metadata": {},
   "outputs": [
    {
     "data": {
      "text/plain": [
       "(-200, 200)"
      ]
     },
     "execution_count": 187,
     "metadata": {},
     "output_type": "execute_result"
    },
    {
     "data": {
      "image/png": "[encoded data removed]",
      "text/plain": [
       "<Figure size 432x288 with 1 Axes>"
      ]
     },
     "metadata": {
      "needs_background": "light"
     },
     "output_type": "display_data"
    }
   ],
   "source": [
    "B = A @ trans\n",
    "x = B[:,0]\n",
    "y = B[:,1]\n",
    "\n",
    "plt.plot(x, y)\n",
    "plt.ylim([-200, 200])\n",
    "plt.xlim([-200, 200])"
   ]
  },
  {
   "cell_type": "markdown",
   "metadata": {},
   "source": [
    "###### 3. Отражение относительно прямой y=x"
   ]
  },
  {
   "cell_type": "code",
   "execution_count": 190,
   "metadata": {},
   "outputs": [
    {
     "data": {
      "text/plain": [
       "array([[0, 1, 0],\n",
       "       [1, 0, 0],\n",
       "       [0, 0, 0]])"
      ]
     },
     "execution_count": 190,
     "metadata": {},
     "output_type": "execute_result"
    }
   ],
   "source": [
    "trans = np.array([[0,1,0],[1,0,0],[0,0,0]])\n",
    "trans"
   ]
  },
  {
   "cell_type": "code",
   "execution_count": 191,
   "metadata": {},
   "outputs": [
    {
     "data": {
      "text/plain": [
       "(-200, 200)"
      ]
     },
     "execution_count": 191,
     "metadata": {},
     "output_type": "execute_result"
    },
    {
     "data": {
      "image/png": "[encoded data removed]",
      "text/plain": [
       "<Figure size 432x288 with 1 Axes>"
      ]
     },
     "metadata": {
      "needs_background": "light"
     },
     "output_type": "display_data"
    }
   ],
   "source": [
    "B = A @ trans\n",
    "x = B[:,0]\n",
    "y = B[:,1]\n",
    "plt.plot(x, y)\n",
    "plt.ylim([-200, 200])\n",
    "plt.xlim([-200, 200])"
   ]
  },
  {
   "cell_type": "markdown",
   "metadata": {},
   "source": [
    "###### 4. Смещение на (200, 300) и масштабирование на (0.5, 1,2)"
   ]
  },
  {
   "cell_type": "code",
   "execution_count": 192,
   "metadata": {},
   "outputs": [
    {
     "data": {
      "text/plain": [
       "array([[0.5, 0. , 0. ],\n",
       "       [0. , 1.2, 0. ],\n",
       "       [0. , 0. , 0. ]])"
      ]
     },
     "execution_count": 192,
     "metadata": {},
     "output_type": "execute_result"
    }
   ],
   "source": [
    "# Масштабируем на 0.5 и 1.2\n",
    "trans = np.array([[0.5,0,0],[0,1.2,0],[0,0,0]])\n",
    "trans"
   ]
  },
  {
   "cell_type": "code",
   "execution_count": 193,
   "metadata": {},
   "outputs": [
    {
     "data": {
      "text/plain": [
       "[<matplotlib.lines.Line2D at 0x1bd0410bec8>]"
      ]
     },
     "execution_count": 193,
     "metadata": {},
     "output_type": "execute_result"
    },
    {
     "data": {
      "image/png": "[encoded data removed]",
      "text/plain": [
       "<Figure size 432x288 with 1 Axes>"
      ]
     },
     "metadata": {
      "needs_background": "light"
     },
     "output_type": "display_data"
    }
   ],
   "source": [
    "B = A @ trans\n",
    "\n",
    "# Смещаем на 200 и 300\n",
    "x = B[:,0] + 200\n",
    "y = B[:,1] + 300\n",
    "\n",
    "plt.plot(x, y)"
   ]
  },
  {
   "cell_type": "code",
   "execution_count": null,
   "metadata": {},
   "outputs": [],
   "source": []
  }
 ],
 "metadata": {
  "kernelspec": {
   "display_name": "Python 3",
   "language": "python",
   "name": "python3"
  },
  "language_info": {
   "codemirror_mode": {
    "name": "ipython",
    "version": 3
   },
   "file_extension": ".py",
   "mimetype": "text/x-python",
   "name": "python",
   "nbconvert_exporter": "python",
   "pygments_lexer": "ipython3",
   "version": "3.7.6"
  }
 },
 "nbformat": 4,
 "nbformat_minor": 4
}
